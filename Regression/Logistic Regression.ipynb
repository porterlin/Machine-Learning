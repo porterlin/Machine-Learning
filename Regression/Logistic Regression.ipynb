{
 "cells": [
  {
   "cell_type": "code",
   "execution_count": 1,
   "id": "4547a7f9-21e1-45e8-a784-dadfc0648568",
   "metadata": {},
   "outputs": [],
   "source": [
    "import numpy as np\n",
    "import pandas as pd\n",
    "import matplotlib.pyplot as plt\n",
    "from sklearn.linear_model import LogisticRegression"
   ]
  },
  {
   "cell_type": "code",
   "execution_count": 2,
   "id": "ab0d1128-99b5-4ef6-9f5a-a8445b0a940c",
   "metadata": {},
   "outputs": [],
   "source": [
    "df = pd.read_csv(\"LogR_data.csv\")"
   ]
  },
  {
   "cell_type": "code",
   "execution_count": 3,
   "id": "68f382d3-2f64-441b-8f74-685166c2fbb9",
   "metadata": {},
   "outputs": [],
   "source": [
    "X = df[['Amount']]\n",
    "y = df[['Result']]"
   ]
  },
  {
   "cell_type": "code",
   "execution_count": 4,
   "id": "f0341c06-eb0a-47fd-bd3f-d3cff8de0229",
   "metadata": {},
   "outputs": [
    {
     "name": "stderr",
     "output_type": "stream",
     "text": [
      "D:\\anaconda3\\lib\\site-packages\\sklearn\\utils\\validation.py:63: DataConversionWarning: A column-vector y was passed when a 1d array was expected. Please change the shape of y to (n_samples, ), for example using ravel().\n",
      "  return f(*args, **kwargs)\n"
     ]
    },
    {
     "data": {
      "text/plain": [
       "LogisticRegression()"
      ]
     },
     "execution_count": 4,
     "metadata": {},
     "output_type": "execute_result"
    }
   ],
   "source": [
    "log = LogisticRegression()\n",
    "log.fit(X, y)"
   ]
  },
  {
   "cell_type": "code",
   "execution_count": 5,
   "id": "286f79ea-6322-455e-b8b1-57e3e1f8e021",
   "metadata": {},
   "outputs": [
    {
     "name": "stdout",
     "output_type": "stream",
     "text": [
      "coef:  [[0.83474635]]\n",
      "intercept:  [-1.30199159]\n"
     ]
    }
   ],
   "source": [
    "print('coef: ', log.coef_)\n",
    "print('intercept: ', log.intercept_)"
   ]
  },
  {
   "cell_type": "code",
   "execution_count": 6,
   "id": "53582ac6-edd2-4477-a73c-e0730612fd97",
   "metadata": {},
   "outputs": [],
   "source": [
    "w1 = float(log.coef_)\n",
    "w0 = float(log.intercept_)"
   ]
  },
  {
   "cell_type": "code",
   "execution_count": 7,
   "id": "0b9228ab-ce74-4d68-83a1-dc4586e13db8",
   "metadata": {},
   "outputs": [],
   "source": [
    "def sigmoid(x, w0, w1):\n",
    "    ln_odds=w0+w1*x\n",
    "    return 1/(1+np.exp(-ln_odds))"
   ]
  },
  {
   "cell_type": "code",
   "execution_count": 8,
   "id": "29eeb932-3b0b-45c3-9bf2-1dca0d543e51",
   "metadata": {},
   "outputs": [
    {
     "data": {
      "text/plain": [
       "<matplotlib.lines.Line2D at 0x279cc39d610>"
      ]
     },
     "execution_count": 8,
     "metadata": {},
     "output_type": "execute_result"
    },
    {
     "data": {
      "image/png": "[encoded data removed]",
      "text/plain": [
       "<Figure size 432x288 with 1 Axes>"
      ]
     },
     "metadata": {
      "needs_background": "light"
     },
     "output_type": "display_data"
    }
   ],
   "source": [
    "x = np.arange(0, 10, 1)\n",
    "s_x = sigmoid(x, w0, w1)\n",
    "plt.plot(x, s_x)\n",
    "plt.axhline(y=0.5, ls='dotted', color='k')"
   ]
  },
  {
   "cell_type": "code",
   "execution_count": 9,
   "id": "0b302fa8-8320-4eb5-9f37-9bac5617795b",
   "metadata": {},
   "outputs": [
    {
     "data": {
      "text/plain": [
       "array([0, 0, 1, 1], dtype=int64)"
      ]
     },
     "execution_count": 9,
     "metadata": {},
     "output_type": "execute_result"
    }
   ],
   "source": [
    "log.predict([[0], [1], [2], [3]])"
   ]
  },
  {
   "cell_type": "code",
   "execution_count": 10,
   "id": "5e1404f3-e5d1-466f-a855-6b7aeb00d27b",
   "metadata": {},
   "outputs": [
    {
     "data": {
      "text/plain": [
       "array([[0.78616997, 0.21383003],\n",
       "       [0.61473154, 0.38526846],\n",
       "       [0.23107565, 0.76892435],\n",
       "       [0.40914498, 0.59085502],\n",
       "       [0.61473154, 0.38526846],\n",
       "       [0.61473154, 0.38526846],\n",
       "       [0.78616997, 0.21383003],\n",
       "       [0.78616997, 0.21383003],\n",
       "       [0.61473154, 0.38526846],\n",
       "       [0.78616997, 0.21383003],\n",
       "       [0.40914498, 0.59085502],\n",
       "       [0.23107565, 0.76892435],\n",
       "       [0.23107565, 0.76892435],\n",
       "       [0.40914498, 0.59085502],\n",
       "       [0.40914498, 0.59085502],\n",
       "       [0.78616997, 0.21383003],\n",
       "       [0.40914498, 0.59085502],\n",
       "       [0.23107565, 0.76892435],\n",
       "       [0.40914498, 0.59085502],\n",
       "       [0.23107565, 0.76892435]])"
      ]
     },
     "execution_count": 10,
     "metadata": {},
     "output_type": "execute_result"
    }
   ],
   "source": [
    "log.predict_proba(X)"
   ]
  },
  {
   "cell_type": "code",
   "execution_count": 11,
   "id": "ed79f7d3-e388-47cb-ad71-c10e5ab1a20f",
   "metadata": {},
   "outputs": [
    {
     "data": {
      "text/plain": [
       "0.75"
      ]
     },
     "execution_count": 11,
     "metadata": {},
     "output_type": "execute_result"
    }
   ],
   "source": [
    "log.score(X, y)"
   ]
  },
  {
   "cell_type": "markdown",
   "id": "a87d356a-e70e-451a-aff1-bf74c0995790",
   "metadata": {},
   "source": [
    "## 多元分類"
   ]
  },
  {
   "cell_type": "code",
   "execution_count": 12,
   "id": "3fa2496d-2218-47cb-b866-1cd99ddc796a",
   "metadata": {},
   "outputs": [],
   "source": [
    "from sklearn import datasets\n",
    "from sklearn.model_selection import train_test_split"
   ]
  },
  {
   "cell_type": "code",
   "execution_count": 13,
   "id": "cebc7a0f-b599-46a9-ab34-b9ea6542176b",
   "metadata": {},
   "outputs": [],
   "source": [
    "iris = datasets.load_iris()\n",
    "X = iris.data\n",
    "y = iris.target"
   ]
  },
  {
   "cell_type": "code",
   "execution_count": 14,
   "id": "9d1179d8-cda5-4fdf-8762-50c32c120285",
   "metadata": {},
   "outputs": [],
   "source": [
    "X_train, X_test, y_train, y_test = train_test_split(X, y,test_size=0.33,random_state=0)"
   ]
  },
  {
   "cell_type": "code",
   "execution_count": 15,
   "id": "8b08b85b-4921-4851-b89a-4e0bcd2b6ca3",
   "metadata": {},
   "outputs": [
    {
     "data": {
      "text/plain": [
       "LogisticRegression()"
      ]
     },
     "execution_count": 15,
     "metadata": {},
     "output_type": "execute_result"
    }
   ],
   "source": [
    "log = LogisticRegression()\n",
    "log.fit(X_train, y_train)"
   ]
  },
  {
   "cell_type": "code",
   "execution_count": 16,
   "id": "ced5715c-587b-4d97-bd25-9a2722279d08",
   "metadata": {},
   "outputs": [
    {
     "data": {
      "text/plain": [
       "array([2, 1, 0, 2, 0, 2, 0, 1, 1, 1, 2, 1, 1, 1, 1, 0, 1, 1, 0, 0, 2, 1,\n",
       "       0, 0, 2, 0, 0, 1, 1, 0, 2, 1, 0, 2, 2, 1, 0, 2, 1, 1, 2, 0, 2, 0,\n",
       "       0, 1, 2, 2, 2, 2])"
      ]
     },
     "execution_count": 16,
     "metadata": {},
     "output_type": "execute_result"
    }
   ],
   "source": [
    "log.predict(X_test)"
   ]
  },
  {
   "cell_type": "code",
   "execution_count": 17,
   "id": "c892b168-85a6-4d00-9b03-a81c830488eb",
   "metadata": {},
   "outputs": [
    {
     "data": {
      "text/plain": [
       "array([[1.59597521e-04, 6.48748988e-02, 9.34965504e-01],\n",
       "       [1.36290104e-02, 9.61253167e-01, 2.51178229e-02],\n",
       "       [9.83390739e-01, 1.66091564e-02, 1.04327373e-07],\n",
       "       [2.21571413e-06, 3.50135722e-02, 9.64984212e-01],\n",
       "       [9.69049147e-01, 3.09504945e-02, 3.58272643e-07],\n",
       "       [3.06480572e-06, 7.52736959e-03, 9.92469566e-01],\n",
       "       [9.81046085e-01, 1.89537484e-02, 1.66120927e-07],\n",
       "       [3.14896206e-03, 7.53617738e-01, 2.43233300e-01],\n",
       "       [1.71455765e-03, 7.62337788e-01, 2.35947654e-01],\n",
       "       [2.20412486e-02, 9.31856589e-01, 4.61021625e-02],\n",
       "       [1.36509748e-04, 2.03699513e-01, 7.96163977e-01],\n",
       "       [7.59187815e-03, 8.03533605e-01, 1.88874517e-01],\n",
       "       [4.58561860e-03, 8.04961826e-01, 1.90452556e-01],\n",
       "       [3.42709007e-03, 7.74246115e-01, 2.22326795e-01],\n",
       "       [4.37659813e-03, 7.20789387e-01, 2.74834015e-01],\n",
       "       [9.82005779e-01, 1.79940864e-02, 1.34781096e-07],\n",
       "       [7.47479521e-03, 7.57991009e-01, 2.34534196e-01],\n",
       "       [1.27411033e-02, 8.48218835e-01, 1.39040062e-01],\n",
       "       [9.66519274e-01, 3.34802867e-02, 4.39261592e-07],\n",
       "       [9.81882722e-01, 1.81171248e-02, 1.52955012e-07],\n",
       "       [1.04362264e-03, 2.09395492e-01, 7.89560885e-01],\n",
       "       [1.14293911e-02, 7.04354866e-01, 2.84215743e-01],\n",
       "       [9.43118721e-01, 5.68791677e-02, 2.11121990e-06],\n",
       "       [9.74868021e-01, 2.51316392e-02, 3.39911569e-07],\n",
       "       [1.63817898e-03, 4.52370121e-01, 5.45991700e-01],\n",
       "       [9.93882685e-01, 6.11728993e-03, 2.53844629e-08],\n",
       "       [9.49081182e-01, 5.09163435e-02, 2.47398745e-06],\n",
       "       [1.16274138e-02, 8.98487122e-01, 8.98854640e-02],\n",
       "       [1.49137872e-01, 8.43792185e-01, 7.06994318e-03],\n",
       "       [9.60339954e-01, 3.96590861e-02, 9.59668687e-07],\n",
       "       [1.33955678e-04, 1.35635633e-01, 8.64230411e-01],\n",
       "       [1.32773158e-02, 6.75217718e-01, 3.11504966e-01],\n",
       "       [9.66612277e-01, 3.33873853e-02, 3.37247978e-07],\n",
       "       [1.52630255e-03, 3.75040016e-01, 6.23433682e-01],\n",
       "       [2.27818171e-05, 4.41161474e-02, 9.55861071e-01],\n",
       "       [5.23092826e-02, 8.70255399e-01, 7.74353185e-02],\n",
       "       [9.42015398e-01, 5.79837163e-02, 8.85697314e-07],\n",
       "       [7.74323342e-04, 3.49905401e-01, 6.49320276e-01],\n",
       "       [1.92615333e-02, 8.51111843e-01, 1.29626624e-01],\n",
       "       [2.40001588e-02, 9.31466739e-01, 4.45331018e-02],\n",
       "       [5.04751445e-05, 9.06500324e-02, 9.09299492e-01],\n",
       "       [9.80513674e-01, 1.94861605e-02, 1.65429693e-07],\n",
       "       [1.93006460e-04, 1.56449463e-01, 8.43357530e-01],\n",
       "       [9.62699079e-01, 3.72994664e-02, 1.45456060e-06],\n",
       "       [9.67739281e-01, 3.22604349e-02, 2.83689640e-07],\n",
       "       [7.56912954e-02, 9.11429704e-01, 1.28790004e-02],\n",
       "       [1.14809443e-04, 1.43395093e-01, 8.56490097e-01],\n",
       "       [1.08501338e-05, 2.10339180e-02, 9.78955232e-01],\n",
       "       [7.37111484e-04, 4.66615172e-01, 5.32647716e-01],\n",
       "       [1.61397435e-05, 8.02871421e-02, 9.19696718e-01]])"
      ]
     },
     "execution_count": 17,
     "metadata": {},
     "output_type": "execute_result"
    }
   ],
   "source": [
    "log.predict_proba(X_test)"
   ]
  },
  {
   "cell_type": "code",
   "execution_count": 18,
   "id": "ded458dd-35e1-4616-9fc0-479ec379a639",
   "metadata": {},
   "outputs": [
    {
     "data": {
      "text/plain": [
       "0.98"
      ]
     },
     "execution_count": 18,
     "metadata": {},
     "output_type": "execute_result"
    }
   ],
   "source": [
    "log.score(X_train, y_train)"
   ]
  },
  {
   "cell_type": "code",
   "execution_count": 19,
   "id": "94b7009e-0298-4aa7-85dc-c7ddf96828f4",
   "metadata": {},
   "outputs": [
    {
     "data": {
      "text/plain": [
       "0.98"
      ]
     },
     "execution_count": 19,
     "metadata": {},
     "output_type": "execute_result"
    }
   ],
   "source": [
    "log.score(X_test, y_test)"
   ]
  }
 ],
 "metadata": {
  "kernelspec": {
   "display_name": "Python 3",
   "language": "python",
   "name": "python3"
  },
  "language_info": {
   "codemirror_mode": {
    "name": "ipython",
    "version": 3
   },
   "file_extension": ".py",
   "mimetype": "text/x-python",
   "name": "python",
   "nbconvert_exporter": "python",
   "pygments_lexer": "ipython3",
   "version": "3.8.8"
  }
 },
 "nbformat": 4,
 "nbformat_minor": 5
}
