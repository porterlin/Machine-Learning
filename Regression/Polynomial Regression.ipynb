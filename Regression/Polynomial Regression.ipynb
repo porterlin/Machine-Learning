{
 "cells": [
  {
   "cell_type": "code",
   "execution_count": 1,
   "id": "5a08b69f-32c6-4ff5-bed3-725fe4287859",
   "metadata": {},
   "outputs": [],
   "source": [
    "import numpy as np\n",
    "import pandas as pd\n",
    "import matplotlib.pyplot as plt\n",
    "from sklearn.linear_model import LinearRegression\n",
    "from sklearn.preprocessing import PolynomialFeatures"
   ]
  },
  {
   "cell_type": "code",
   "execution_count": 8,
   "id": "6883f4cf-8d18-47a6-a804-0181009a504f",
   "metadata": {},
   "outputs": [],
   "source": [
    "df = pd.read_csv(\"Curve.csv\")"
   ]
  },
  {
   "cell_type": "code",
   "execution_count": 9,
   "id": "18962f0b-3bfb-473f-8087-7561ae8d7e1a",
   "metadata": {},
   "outputs": [],
   "source": [
    "X = df['x'].values\n",
    "y = df['y'].values"
   ]
  },
  {
   "cell_type": "code",
   "execution_count": 16,
   "id": "efb79220-479f-4550-820c-73b3308f39c3",
   "metadata": {},
   "outputs": [],
   "source": [
    "X = X.reshape(-1, 1)"
   ]
  },
  {
   "cell_type": "code",
   "execution_count": 49,
   "id": "71744094-b285-482d-a4ec-91569f0f2458",
   "metadata": {},
   "outputs": [],
   "source": [
    "poly = PolynomialFeatures(degree=10)"
   ]
  },
  {
   "cell_type": "code",
   "execution_count": 50,
   "id": "f4e642db-ab9b-4ba6-b04c-fbcca2885fbc",
   "metadata": {},
   "outputs": [],
   "source": [
    "X_poly = poly.fit_transform(X)"
   ]
  },
  {
   "cell_type": "code",
   "execution_count": 51,
   "id": "6f2b6e6a-6ca2-4e7e-9ce9-dd154e3450fc",
   "metadata": {},
   "outputs": [
    {
     "data": {
      "text/plain": [
       "PolynomialFeatures(degree=10)"
      ]
     },
     "execution_count": 51,
     "metadata": {},
     "output_type": "execute_result"
    }
   ],
   "source": [
    "poly.fit(X_poly, y)"
   ]
  },
  {
   "cell_type": "code",
   "execution_count": 52,
   "id": "6a6b3626-337e-4847-bbd3-741a4b452c8f",
   "metadata": {},
   "outputs": [
    {
     "data": {
      "text/plain": [
       "LinearRegression()"
      ]
     },
     "execution_count": 52,
     "metadata": {},
     "output_type": "execute_result"
    }
   ],
   "source": [
    "lg = LinearRegression()\n",
    "lg.fit(X_poly, y)"
   ]
  },
  {
   "cell_type": "code",
   "execution_count": 53,
   "id": "f2ba259f-27d6-4661-a2d7-5441e4e78bbb",
   "metadata": {},
   "outputs": [],
   "source": [
    "y_pred = lg.predict(X_poly)"
   ]
  },
  {
   "cell_type": "code",
   "execution_count": 54,
   "id": "ba0a15d9-5222-4505-98a1-49d9cd53668f",
   "metadata": {},
   "outputs": [
    {
     "data": {
      "text/plain": [
       "[<matplotlib.lines.Line2D at 0x23ea1fb3760>]"
      ]
     },
     "execution_count": 54,
     "metadata": {},
     "output_type": "execute_result"
    },
    {
     "data": {
      "image/png": "[encoded data removed]",
      "text/plain": [
       "<Figure size 432x288 with 1 Axes>"
      ]
     },
     "metadata": {
      "needs_background": "light"
     },
     "output_type": "display_data"
    }
   ],
   "source": [
    "plt.scatter(X, y, color='blue')\n",
    "plt.plot(X, y_pred, color='red')"
   ]
  }
 ],
 "metadata": {
  "kernelspec": {
   "display_name": "Python 3",
   "language": "python",
   "name": "python3"
  },
  "language_info": {
   "codemirror_mode": {
    "name": "ipython",
    "version": 3
   },
   "file_extension": ".py",
   "mimetype": "text/x-python",
   "name": "python",
   "nbconvert_exporter": "python",
   "pygments_lexer": "ipython3",
   "version": "3.8.8"
  }
 },
 "nbformat": 4,
 "nbformat_minor": 5
}
