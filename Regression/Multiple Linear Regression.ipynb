{
 "cells": [
  {
   "cell_type": "markdown",
   "id": "4986c85a-81d6-4341-b23a-1b1ed1534b6a",
   "metadata": {},
   "source": [
    "## Data comes from https://www.kaggle.com/budincsevity/szeged-weather\n",
    "## Weather in Szeged 2006-2016"
   ]
  },
  {
   "cell_type": "code",
   "execution_count": 1,
   "id": "6ae2d782-bff7-4704-861e-d31aabdaa531",
   "metadata": {},
   "outputs": [],
   "source": [
    "import pandas as pd\n",
    "import numpy as np\n",
    "from sklearn import linear_model\n",
    "import matplotlib.pyplot as plt\n",
    "from sklearn.linear_model import LinearRegression\n",
    "from sklearn.preprocessing import PolynomialFeatures\n",
    "from sklearn.pipeline import make_pipeline\n",
    "from sklearn.model_selection import train_test_split"
   ]
  },
  {
   "cell_type": "code",
   "execution_count": 2,
   "id": "a2d6d017-73b6-4870-af72-7064d9086071",
   "metadata": {},
   "outputs": [],
   "source": [
    "df = pd.read_csv(\"weatherHistory.csv\")\n",
    "df.drop(['Formatted Date', 'Summary', 'Precip Type', 'Apparent Temperature (C)', 'Wind Bearing (degrees)', 'Visibility (km)', 'Loud Cover', 'Daily Summary'], axis='columns', inplace=True)\n",
    "df.head(10)\n",
    "X = df[['Humidity', 'Wind Speed (km/h)', 'Pressure (millibars)']]\n",
    "y = df[['Temperature (C)']]"
   ]
  },
  {
   "cell_type": "code",
   "execution_count": 3,
   "id": "c678bd3c-7295-4858-8ab0-0804b63517d9",
   "metadata": {},
   "outputs": [
    {
     "data": {
      "text/plain": [
       "LinearRegression()"
      ]
     },
     "execution_count": 3,
     "metadata": {},
     "output_type": "execute_result"
    }
   ],
   "source": [
    "reg = LinearRegression()\n",
    "reg.fit(X, y)"
   ]
  },
  {
   "cell_type": "code",
   "execution_count": 4,
   "id": "bed77bba-9abc-40fe-b358-876ada96f13f",
   "metadata": {},
   "outputs": [
    {
     "name": "stdout",
     "output_type": "stream",
     "text": [
      "Score:  0.4185300309037757\n"
     ]
    }
   ],
   "source": [
    "accuracy = reg.score(X,y)\n",
    "print('Score: ', accuracy)"
   ]
  },
  {
   "cell_type": "code",
   "execution_count": 5,
   "id": "0f48b309-1f20-4ebe-a849-df67fc36fc0e",
   "metadata": {},
   "outputs": [],
   "source": [
    "y_pred = reg.predict(X)"
   ]
  },
  {
   "cell_type": "code",
   "execution_count": 6,
   "id": "5cee973a-4ba0-434a-bcfe-97627673c60d",
   "metadata": {},
   "outputs": [
    {
     "name": "stdout",
     "output_type": "stream",
     "text": [
      "[[ 6.24893798]\n",
      " [ 7.19358734]\n",
      " [ 8.23104411]\n",
      " ...\n",
      " [17.95289908]\n",
      " [16.35440388]\n",
      " [16.93506185]]\n"
     ]
    }
   ],
   "source": [
    "print(y_pred)"
   ]
  }
 ],
 "metadata": {
  "kernelspec": {
   "display_name": "Python 3",
   "language": "python",
   "name": "python3"
  },
  "language_info": {
   "codemirror_mode": {
    "name": "ipython",
    "version": 3
   },
   "file_extension": ".py",
   "mimetype": "text/x-python",
   "name": "python",
   "nbconvert_exporter": "python",
   "pygments_lexer": "ipython3",
   "version": "3.8.8"
  }
 },
 "nbformat": 4,
 "nbformat_minor": 5
}
