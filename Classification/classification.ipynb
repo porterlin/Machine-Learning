{
 "cells": [
  {
   "cell_type": "code",
   "execution_count": 1,
   "id": "205888a8",
   "metadata": {},
   "outputs": [],
   "source": [
    "from sklearn import svm\n",
    "from sklearn import naive_bayes\n",
    "from sklearn import neighbors\n",
    "from sklearn.linear_model import SGDClassifier\n",
    "import pandas as pd\n",
    "import numpy as np\n",
    "import matplotlib.pyplot as plt\n",
    "from sklearn import datasets\n",
    "from sklearn.model_selection import train_test_split\n",
    "from sklearn.metrics import classification_report\n",
    "from sklearn.model_selection import cross_val_score\n",
    "from sklearn.model_selection import learning_curve\n",
    "from sklearn.model_selection import validation_curve"
   ]
  },
  {
   "cell_type": "markdown",
   "id": "4c1ad878",
   "metadata": {},
   "source": [
    "## Step1. 下載資料"
   ]
  },
  {
   "cell_type": "code",
   "execution_count": 2,
   "id": "433aacae",
   "metadata": {
    "tags": []
   },
   "outputs": [],
   "source": [
    "iris=datasets.load_iris()\n",
    "X=iris.data\n",
    "y=iris.target"
   ]
  },
  {
   "cell_type": "markdown",
   "id": "d384ae96",
   "metadata": {},
   "source": [
    "## Step2. 區分訓練集與測試集"
   ]
  },
  {
   "cell_type": "code",
   "execution_count": 3,
   "id": "461d2b98",
   "metadata": {},
   "outputs": [],
   "source": [
    "X_train, X_test, y_train, y_test = train_test_split(X, y,test_size=0.33,random_state=0)"
   ]
  },
  {
   "cell_type": "markdown",
   "id": "9e645e0a",
   "metadata": {},
   "source": [
    "## Step3. 建模"
   ]
  },
  {
   "cell_type": "code",
   "execution_count": 4,
   "id": "72e91fc1",
   "metadata": {},
   "outputs": [
    {
     "name": "stderr",
     "output_type": "stream",
     "text": [
      "D:\\anaconda3\\lib\\site-packages\\sklearn\\svm\\_base.py:985: ConvergenceWarning: Liblinear failed to converge, increase the number of iterations.\n",
      "  warnings.warn(\"Liblinear failed to converge, increase \"\n"
     ]
    },
    {
     "data": {
      "text/plain": [
       "SGDClassifier()"
      ]
     },
     "execution_count": 4,
     "metadata": {},
     "output_type": "execute_result"
    }
   ],
   "source": [
    "#SVC\n",
    "svc = svm.SVC(kernel='poly',gamma='auto',C=100, degree=2)\n",
    "svc.fit(X_train,y_train)\n",
    "\n",
    "#LinearSVC\n",
    "linearsvc = svm.LinearSVC(random_state=0)\n",
    "linearsvc.fit(X_train, y_train)\n",
    "\n",
    "#Naive Bayes\n",
    "gaussianNB = naive_bayes.GaussianNB()\n",
    "gaussianNB.fit(X_train, y_train)\n",
    "\n",
    "#KNeighbors\n",
    "knnclassifier = neighbors.KNeighborsClassifier(n_neighbors=5)\n",
    "knnclassifier.fit(X_train, y_train)\n",
    "\n",
    "#SGDClassifier\n",
    "sgdclassifier = SGDClassifier()\n",
    "sgdclassifier.fit(X_train, y_train)"
   ]
  },
  {
   "cell_type": "markdown",
   "id": "0a507a5d",
   "metadata": {},
   "source": [
    "## Step4. 預測"
   ]
  },
  {
   "cell_type": "code",
   "execution_count": 5,
   "id": "0d9be71a",
   "metadata": {},
   "outputs": [],
   "source": [
    "y_predsvc = svc.predict(X_test)\n",
    "y_predlinearsvc = linearsvc.predict(X_test)"
   ]
  },
  {
   "cell_type": "markdown",
   "id": "2ece639b",
   "metadata": {},
   "source": [
    "## Step5. 準確度分析"
   ]
  },
  {
   "cell_type": "code",
   "execution_count": 6,
   "id": "17b4f5fb",
   "metadata": {},
   "outputs": [
    {
     "name": "stdout",
     "output_type": "stream",
     "text": [
      "SVC\n",
      "Training data:  1.0\n",
      "Testing data:  0.98\n",
      "---------------------------------------------\n",
      "LinearSVC\n",
      "Training data:  0.99\n",
      "Testing data:  0.94\n",
      "---------------------------------------------\n",
      "Gaussian Naive Bayes\n",
      "Training data:  0.96\n",
      "Testing data:  0.96\n",
      "---------------------------------------------\n",
      "KNeighbors\n",
      "Training data:  0.97\n",
      "Testing data:  0.98\n",
      "---------------------------------------------\n",
      "SGDClassifier\n",
      "Training data:  0.69\n",
      "Testing data:  0.62\n"
     ]
    }
   ],
   "source": [
    "print(\"SVC\")\n",
    "print(\"Training data: \", svc.score(X_train,y_train))\n",
    "print(\"Testing data: \", svc.score(X_test, y_test))\n",
    "print(\"---------------------------------------------\")\n",
    "print(\"LinearSVC\")\n",
    "print(\"Training data: \", linearsvc.score(X_train,y_train))\n",
    "print(\"Testing data: \", linearsvc.score(X_test, y_test))\n",
    "print(\"---------------------------------------------\")\n",
    "print(\"Gaussian Naive Bayes\")\n",
    "print(\"Training data: \", gaussianNB.score(X_train,y_train))\n",
    "print(\"Testing data: \", gaussianNB.score(X_test, y_test))\n",
    "print(\"---------------------------------------------\")\n",
    "print(\"KNeighbors\")\n",
    "print(\"Training data: \", knnclassifier.score(X_train,y_train))\n",
    "print(\"Testing data: \", knnclassifier.score(X_test, y_test))\n",
    "print(\"---------------------------------------------\")\n",
    "print(\"SGDClassifier\")\n",
    "print(\"Training data: \", sgdclassifier.score(X_train,y_train))\n",
    "print(\"Testing data: \", sgdclassifier.score(X_test, y_test))"
   ]
  },
  {
   "cell_type": "code",
   "execution_count": 7,
   "id": "de082819",
   "metadata": {},
   "outputs": [
    {
     "name": "stdout",
     "output_type": "stream",
     "text": [
      "              precision    recall  f1-score   support\n",
      "\n",
      "           0       1.00      1.00      1.00        16\n",
      "           1       1.00      0.95      0.97        19\n",
      "           2       0.94      1.00      0.97        15\n",
      "\n",
      "    accuracy                           0.98        50\n",
      "   macro avg       0.98      0.98      0.98        50\n",
      "weighted avg       0.98      0.98      0.98        50\n",
      "\n"
     ]
    }
   ],
   "source": [
    "print(classification_report(y_test, y_predsvc))"
   ]
  },
  {
   "cell_type": "markdown",
   "id": "fc49783a-5aa3-4d96-9247-29bb91fb3c1d",
   "metadata": {},
   "source": [
    "## 交叉驗證"
   ]
  },
  {
   "cell_type": "code",
   "execution_count": 8,
   "id": "da8b749e-a910-4e69-ada0-893f2bdee208",
   "metadata": {},
   "outputs": [
    {
     "name": "stdout",
     "output_type": "stream",
     "text": [
      "[1.         1.         1.         1.         0.93333333 1.\n",
      " 0.86666667 1.         1.         1.        ]\n",
      "0.9800000000000001\n"
     ]
    }
   ],
   "source": [
    "#分成不一樣的test和training data，再把10組平均一下\n",
    "scores = cross_val_score(svc, X, y, cv=10, scoring='accuracy')\n",
    "print(scores)\n",
    "print(scores.mean())"
   ]
  },
  {
   "cell_type": "code",
   "execution_count": null,
   "id": "cb79c25d-81c6-49da-97bf-b4ec902acc87",
   "metadata": {},
   "outputs": [],
   "source": []
  }
 ],
 "metadata": {
  "kernelspec": {
   "display_name": "Python 3",
   "language": "python",
   "name": "python3"
  },
  "language_info": {
   "codemirror_mode": {
    "name": "ipython",
    "version": 3
   },
   "file_extension": ".py",
   "mimetype": "text/x-python",
   "name": "python",
   "nbconvert_exporter": "python",
   "pygments_lexer": "ipython3",
   "version": "3.8.8"
  }
 },
 "nbformat": 4,
 "nbformat_minor": 5
}
